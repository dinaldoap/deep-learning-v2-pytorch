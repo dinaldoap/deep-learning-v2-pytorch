{
  "nbformat": 4,
  "nbformat_minor": 0,
  "metadata": {
    "kernelspec": {
      "name": "python3",
      "display_name": "Python 3"
    },
    "language_info": {
      "codemirror_mode": {
        "name": "ipython",
        "version": 3
      },
      "file_extension": ".py",
      "mimetype": "text/x-python",
      "name": "python",
      "nbconvert_exporter": "python",
      "pygments_lexer": "ipython3",
      "version": "3.6.4"
    },
    "colab": {
      "name": "Character_Level_RNN_Exercise.ipynb",
      "provenance": []
    },
    "accelerator": "GPU"
  },
  "cells": [
    {
      "cell_type": "markdown",
      "metadata": {
        "id": "Mob0ryOa0Jth",
        "colab_type": "text"
      },
      "source": [
        "# Character-Level LSTM in PyTorch\n",
        "\n",
        "In this notebook, I'll construct a character-level LSTM with PyTorch. The network will train character by character on some text, then generate new text character by character. As an example, I will train on Anna Karenina. **This model will be able to generate new text based on the text from the book!**\n",
        "\n",
        "This network is based off of Andrej Karpathy's [post on RNNs](http://karpathy.github.io/2015/05/21/rnn-effectiveness/) and [implementation in Torch](https://github.com/karpathy/char-rnn). Below is the general architecture of the character-wise RNN.\n",
        "\n",
        "<img src=\"https://github.com/dinaldoap/deep-learning-v2-pytorch/blob/master/recurrent-neural-networks/char-rnn/assets/charseq.jpeg?raw=1\" width=\"500\">"
      ]
    },
    {
      "cell_type": "markdown",
      "metadata": {
        "id": "UXoSaXvN0Jto",
        "colab_type": "text"
      },
      "source": [
        "First let's load in our required resources for data loading and model creation."
      ]
    },
    {
      "cell_type": "code",
      "metadata": {
        "id": "yQs1nyAd0Jtr",
        "colab_type": "code",
        "colab": {}
      },
      "source": [
        "import numpy as np\n",
        "import torch\n",
        "from torch import nn\n",
        "import torch.nn.functional as F\n",
        "import urllib"
      ],
      "execution_count": 0,
      "outputs": []
    },
    {
      "cell_type": "markdown",
      "metadata": {
        "id": "CbuXjadb0Jtx",
        "colab_type": "text"
      },
      "source": [
        "## Load in Data\n",
        "\n",
        "Then, we'll load the Anna Karenina text file and convert it into integers for our network to use. "
      ]
    },
    {
      "cell_type": "code",
      "metadata": {
        "id": "CQ8zDHAA0Jty",
        "colab_type": "code",
        "colab": {}
      },
      "source": [
        "# open text file and read in data as `text`\n",
        "with urllib.request.urlopen('https://raw.githubusercontent.com/dinaldoap/deep-learning-v2-pytorch/master/recurrent-neural-networks/char-rnn/data/anna.txt') as f:\n",
        "    text = f.read().decode('utf-8')"
      ],
      "execution_count": 0,
      "outputs": []
    },
    {
      "cell_type": "markdown",
      "metadata": {
        "id": "nFrxdgKc0Jt3",
        "colab_type": "text"
      },
      "source": [
        "Let's check out the first 100 characters, make sure everything is peachy. According to the [American Book Review](http://americanbookreview.org/100bestlines.asp), this is the 6th best first line of a book ever."
      ]
    },
    {
      "cell_type": "code",
      "metadata": {
        "id": "uOJf2kBc0Jt4",
        "colab_type": "code",
        "outputId": "d09ba2ca-d3df-40b3-808c-c5a5e4723996",
        "colab": {
          "base_uri": "https://localhost:8080/",
          "height": 34
        }
      },
      "source": [
        "text[:100]"
      ],
      "execution_count": 3,
      "outputs": [
        {
          "output_type": "execute_result",
          "data": {
            "text/plain": [
              "'Chapter 1\\r\\n\\r\\n\\r\\nHappy families are all alike; every unhappy family is unhappy in its own\\r\\nway.\\r\\n\\r\\nEve'"
            ]
          },
          "metadata": {
            "tags": []
          },
          "execution_count": 3
        }
      ]
    },
    {
      "cell_type": "markdown",
      "metadata": {
        "id": "4wgr_2r70Jt8",
        "colab_type": "text"
      },
      "source": [
        "### Tokenization\n",
        "\n",
        "In the cells, below, I'm creating a couple **dictionaries** to convert the characters to and from integers. Encoding the characters as integers makes it easier to use as input in the network."
      ]
    },
    {
      "cell_type": "code",
      "metadata": {
        "id": "tG69Oqwz0Jt-",
        "colab_type": "code",
        "colab": {}
      },
      "source": [
        "# encode the text and map each character to an integer and vice versa\n",
        "\n",
        "# we create two dictionaries:\n",
        "# 1. int2char, which maps integers to characters\n",
        "# 2. char2int, which maps characters to unique integers\n",
        "chars = tuple(set(text))\n",
        "int2char = dict(enumerate(chars))\n",
        "char2int = {ch: ii for ii, ch in int2char.items()}\n",
        "\n",
        "# encode the text\n",
        "encoded = np.array([char2int[ch] for ch in text])"
      ],
      "execution_count": 0,
      "outputs": []
    },
    {
      "cell_type": "markdown",
      "metadata": {
        "id": "i2ownCPY0JuB",
        "colab_type": "text"
      },
      "source": [
        "And we can see those same characters from above, encoded as integers."
      ]
    },
    {
      "cell_type": "code",
      "metadata": {
        "id": "F8f_xEpd0JuC",
        "colab_type": "code",
        "outputId": "e3002a05-342e-4976-e255-8ece1ff98240",
        "colab": {
          "base_uri": "https://localhost:8080/",
          "height": 119
        }
      },
      "source": [
        "encoded[:100]"
      ],
      "execution_count": 5,
      "outputs": [
        {
          "output_type": "execute_result",
          "data": {
            "text/plain": [
              "array([ 7, 80, 37,  1,  0, 77, 24, 59, 63,  2, 29,  2, 29,  2, 29, 12, 37,\n",
              "        1,  1, 21, 59, 19, 37, 32, 73, 50, 73, 77, 65, 59, 37, 24, 77, 59,\n",
              "       37, 50, 50, 59, 37, 50, 73, 49, 77, 35, 59, 77, 20, 77, 24, 21, 59,\n",
              "       45, 38, 80, 37,  1,  1, 21, 59, 19, 37, 32, 73, 50, 21, 59, 73, 65,\n",
              "       59, 45, 38, 80, 37,  1,  1, 21, 59, 73, 38, 59, 73,  0, 65, 59, 47,\n",
              "       78, 38,  2, 29, 78, 37, 21, 23,  2, 29,  2, 29, 30, 20, 77])"
            ]
          },
          "metadata": {
            "tags": []
          },
          "execution_count": 5
        }
      ]
    },
    {
      "cell_type": "markdown",
      "metadata": {
        "id": "k90K8k590JuF",
        "colab_type": "text"
      },
      "source": [
        "## Pre-processing the data\n",
        "\n",
        "As you can see in our char-RNN image above, our LSTM expects an input that is **one-hot encoded** meaning that each character is converted into an integer (via our created dictionary) and *then* converted into a column vector where only it's corresponding integer index will have the value of 1 and the rest of the vector will be filled with 0's. Since we're one-hot encoding the data, let's make a function to do that!\n"
      ]
    },
    {
      "cell_type": "code",
      "metadata": {
        "id": "cqd72mnh0JuG",
        "colab_type": "code",
        "colab": {}
      },
      "source": [
        "def one_hot_encode(arr, n_labels):\n",
        "    \n",
        "    # Initialize the the encoded array\n",
        "    one_hot = np.zeros((arr.size, n_labels), dtype=np.float32)\n",
        "    \n",
        "    # Fill the appropriate elements with ones\n",
        "    one_hot[np.arange(one_hot.shape[0]), arr.flatten()] = 1.\n",
        "    \n",
        "    # Finally reshape it to get back to the original array\n",
        "    one_hot = one_hot.reshape((*arr.shape, n_labels))\n",
        "    \n",
        "    return one_hot"
      ],
      "execution_count": 0,
      "outputs": []
    },
    {
      "cell_type": "code",
      "metadata": {
        "id": "RCYlWblW0JuJ",
        "colab_type": "code",
        "outputId": "933c2485-d8a3-4e81-c4b7-629d9e81ec72",
        "colab": {
          "base_uri": "https://localhost:8080/",
          "height": 68
        }
      },
      "source": [
        "# check that the function works as expected\n",
        "test_seq = np.array([[3, 5, 1]])\n",
        "one_hot = one_hot_encode(test_seq, 8)\n",
        "\n",
        "print(one_hot)"
      ],
      "execution_count": 7,
      "outputs": [
        {
          "output_type": "stream",
          "text": [
            "[[[0. 0. 0. 1. 0. 0. 0. 0.]\n",
            "  [0. 0. 0. 0. 0. 1. 0. 0.]\n",
            "  [0. 1. 0. 0. 0. 0. 0. 0.]]]\n"
          ],
          "name": "stdout"
        }
      ]
    },
    {
      "cell_type": "markdown",
      "metadata": {
        "id": "vvd7QZ2G0JuN",
        "colab_type": "text"
      },
      "source": [
        "## Making training mini-batches\n",
        "\n",
        "\n",
        "To train on this data, we also want to create mini-batches for training. Remember that we want our batches to be multiple sequences of some desired number of sequence steps. Considering a simple example, our batches would look like this:\n",
        "\n",
        "<img src=\"https://github.com/dinaldoap/deep-learning-v2-pytorch/blob/master/recurrent-neural-networks/char-rnn/assets/sequence_batching@1x.png?raw=1\" width=500px>\n",
        "\n",
        "\n",
        "<br>\n",
        "\n",
        "In this example, we'll take the encoded characters (passed in as the `arr` parameter) and split them into multiple sequences, given by `batch_size`. Each of our sequences will be `seq_length` long.\n",
        "\n",
        "### Creating Batches\n",
        "\n",
        "**1. The first thing we need to do is discard some of the text so we only have completely full mini-batches. **\n",
        "\n",
        "Each batch contains $N \\times M$ characters, where $N$ is the batch size (the number of sequences in a batch) and $M$ is the seq_length or number of time steps in a sequence. Then, to get the total number of batches, $K$, that we can make from the array `arr`, you divide the length of `arr` by the number of characters per batch. Once you know the number of batches, you can get the total number of characters to keep from `arr`, $N * M * K$.\n",
        "\n",
        "**2. After that, we need to split `arr` into $N$ batches. ** \n",
        "\n",
        "You can do this using `arr.reshape(size)` where `size` is a tuple containing the dimensions sizes of the reshaped array. We know we want $N$ sequences in a batch, so let's make that the size of the first dimension. For the second dimension, you can use `-1` as a placeholder in the size, it'll fill up the array with the appropriate data for you. After this, you should have an array that is $N \\times (M * K)$.\n",
        "\n",
        "**3. Now that we have this array, we can iterate through it to get our mini-batches. **\n",
        "\n",
        "The idea is each batch is a $N \\times M$ window on the $N \\times (M * K)$ array. For each subsequent batch, the window moves over by `seq_length`. We also want to create both the input and target arrays. Remember that the targets are just the inputs shifted over by one character. The way I like to do this window is use `range` to take steps of size `n_steps` from $0$ to `arr.shape[1]`, the total number of tokens in each sequence. That way, the integers you get from `range` always point to the start of a batch, and each window is `seq_length` wide.\n",
        "\n",
        "> **TODO:** Write the code for creating batches in the function below. The exercises in this notebook _will not be easy_. I've provided a notebook with solutions alongside this notebook. If you get stuck, checkout the solutions. The most important thing is that you don't copy and paste the code into here, **type out the solution code yourself.**"
      ]
    },
    {
      "cell_type": "code",
      "metadata": {
        "id": "NRzEiQS30JuO",
        "colab_type": "code",
        "colab": {}
      },
      "source": [
        "def get_batches(arr, batch_size, seq_length):\n",
        "    '''Create a generator that returns batches of size\n",
        "       batch_size x seq_length from arr.\n",
        "       \n",
        "       Arguments\n",
        "       ---------\n",
        "       arr: Array you want to make batches from\n",
        "       batch_size: Batch size, the number of sequences per batch\n",
        "       seq_length: Number of encoded chars in a sequence\n",
        "    '''\n",
        "    \n",
        "    ## Get the number of batches we can make\n",
        "    n_batches = int((len(arr) - batch_size) / (batch_size * seq_length))\n",
        "    \n",
        "    ## Keep only enough characters to make full batches\n",
        "    arr = arr[:(batch_size * (n_batches * seq_length + 1))]\n",
        "    \n",
        "    ## Reshape into batch_size rows\n",
        "    arr = arr.reshape((batch_size, -1))    \n",
        "    \n",
        "    ## Iterate over the batches using a window of size seq_length\n",
        "    for n in range(0, arr.shape[1] - seq_length, seq_length):\n",
        "        # The features\n",
        "        x = arr[:, n:(n + seq_length)]\n",
        "        # The targets, shifted by one\n",
        "        y = arr[:, (n + 1):(n + seq_length + 1)]\n",
        "        yield x, y"
      ],
      "execution_count": 0,
      "outputs": []
    },
    {
      "cell_type": "markdown",
      "metadata": {
        "id": "wPsA22G20JuR",
        "colab_type": "text"
      },
      "source": [
        "### Test Your Implementation\n",
        "\n",
        "Now I'll make some data sets and we can check out what's going on as we batch data. Here, as an example, I'm going to use a batch size of 8 and 50 sequence steps."
      ]
    },
    {
      "cell_type": "code",
      "metadata": {
        "id": "CMB5ulQ00JuS",
        "colab_type": "code",
        "colab": {}
      },
      "source": [
        "batches = get_batches(encoded, 8, 50)\n",
        "x, y = next(batches)"
      ],
      "execution_count": 0,
      "outputs": []
    },
    {
      "cell_type": "code",
      "metadata": {
        "id": "fqYMlqFL0JuV",
        "colab_type": "code",
        "outputId": "8074c55d-217f-4161-88f1-614e88c868c6",
        "colab": {
          "base_uri": "https://localhost:8080/",
          "height": 340
        }
      },
      "source": [
        "# printing out the first 10 items in a sequence\n",
        "print('x\\n', x[:10, :10])\n",
        "print('\\ny\\n', y[:10, :10])"
      ],
      "execution_count": 10,
      "outputs": [
        {
          "output_type": "stream",
          "text": [
            "x\n",
            " [[ 7 80 37  1  0 77 24 59 63  2]\n",
            " [ 0 80 47 45 53 80  0 65 59 47]\n",
            " [53 59 32 37 38 74 18  2 29  2]\n",
            " [ 0 47 59 24 77  0 73 24 77 59]\n",
            " [77 59 80 37 13 59 38 47  0 59]\n",
            " [55 45 65 65 73 47 38 59 37 38]\n",
            " [40 59 13 37 24 50 73 38 53 48]\n",
            " [55 47 38 55 50 45 65 73 20 77]]\n",
            "\n",
            "y\n",
            " [[80 37  1  0 77 24 59 63  2 29]\n",
            " [80 47 45 53 80  0 65 59 47 19]\n",
            " [59 32 37 38 74 18  2 29  2 29]\n",
            " [47 59 24 77  0 73 24 77 59 19]\n",
            " [59 80 37 13 59 38 47  0 59  1]\n",
            " [45 65 65 73 47 38 59 37 38 13]\n",
            " [59 13 37 24 50 73 38 53 48 23]\n",
            " [47 38 55 50 45 65 73 20 77 59]]\n"
          ],
          "name": "stdout"
        }
      ]
    },
    {
      "cell_type": "markdown",
      "metadata": {
        "id": "gdseul_r0JuY",
        "colab_type": "text"
      },
      "source": [
        "If you implemented `get_batches` correctly, the above output should look something like \n",
        "```\n",
        "x\n",
        " [[25  8 60 11 45 27 28 73  1  2]\n",
        " [17  7 20 73 45  8 60 45 73 60]\n",
        " [27 20 80 73  7 28 73 60 73 65]\n",
        " [17 73 45  8 27 73 66  8 46 27]\n",
        " [73 17 60 12 73  8 27 28 73 45]\n",
        " [66 64 17 17 46  7 20 73 60 20]\n",
        " [73 76 20 20 60 73  8 60 80 73]\n",
        " [47 35 43  7 20 17 24 50 37 73]]\n",
        "\n",
        "y\n",
        " [[ 8 60 11 45 27 28 73  1  2  2]\n",
        " [ 7 20 73 45  8 60 45 73 60 45]\n",
        " [20 80 73  7 28 73 60 73 65  7]\n",
        " [73 45  8 27 73 66  8 46 27 65]\n",
        " [17 60 12 73  8 27 28 73 45 27]\n",
        " [64 17 17 46  7 20 73 60 20 80]\n",
        " [76 20 20 60 73  8 60 80 73 17]\n",
        " [35 43  7 20 17 24 50 37 73 36]]\n",
        " ```\n",
        " although the exact numbers may be different. Check to make sure the data is shifted over one step for `y`."
      ]
    },
    {
      "cell_type": "markdown",
      "metadata": {
        "id": "zlNE_1Pj0Jua",
        "colab_type": "text"
      },
      "source": [
        "---\n",
        "## Defining the network with PyTorch\n",
        "\n",
        "Below is where you'll define the network.\n",
        "\n",
        "<img src=\"https://github.com/dinaldoap/deep-learning-v2-pytorch/blob/master/recurrent-neural-networks/char-rnn/assets/charRNN.png?raw=1\" width=500px>\n",
        "\n",
        "Next, you'll use PyTorch to define the architecture of the network. We start by defining the layers and operations we want. Then, define a method for the forward pass. You've also been given a method for predicting characters."
      ]
    },
    {
      "cell_type": "markdown",
      "metadata": {
        "id": "0XxA5QAB0Jua",
        "colab_type": "text"
      },
      "source": [
        "### Model Structure\n",
        "\n",
        "In `__init__` the suggested structure is as follows:\n",
        "* Create and store the necessary dictionaries (this has been done for you)\n",
        "* Define an LSTM layer that takes as params: an input size (the number of characters), a hidden layer size `n_hidden`, a number of layers `n_layers`, a dropout probability `drop_prob`, and a batch_first boolean (True, since we are batching)\n",
        "* Define a dropout layer with `drop_prob`\n",
        "* Define a fully-connected layer with params: input size `n_hidden` and output size (the number of characters)\n",
        "* Finally, initialize the weights (again, this has been given)\n",
        "\n",
        "Note that some parameters have been named and given in the `__init__` function, and we use them and store them by doing something like `self.drop_prob = drop_prob`."
      ]
    },
    {
      "cell_type": "markdown",
      "metadata": {
        "id": "REpcbvq10Jub",
        "colab_type": "text"
      },
      "source": [
        "---\n",
        "### LSTM Inputs/Outputs\n",
        "\n",
        "You can create a basic [LSTM layer](https://pytorch.org/docs/stable/nn.html#lstm) as follows\n",
        "\n",
        "```python\n",
        "self.lstm = nn.LSTM(input_size, n_hidden, n_layers, \n",
        "                            dropout=drop_prob, batch_first=True)\n",
        "```\n",
        "\n",
        "where `input_size` is the number of characters this cell expects to see as sequential input, and `n_hidden` is the number of units in the hidden layers in the cell. And we can add dropout by adding a dropout parameter with a specified probability; this will automatically add dropout to the inputs or outputs. Finally, in the `forward` function, we can stack up the LSTM cells into layers using `.view`. With this, you pass in a list of cells and it will send the output of one cell into the next cell.\n",
        "\n",
        "We also need to create an initial hidden state of all zeros. This is done like so\n",
        "\n",
        "```python\n",
        "self.init_hidden()\n",
        "```"
      ]
    },
    {
      "cell_type": "code",
      "metadata": {
        "id": "W3DW0JuG0Juc",
        "colab_type": "code",
        "outputId": "b27f6a8b-aad6-4fb2-dc01-840c67c18b83",
        "colab": {
          "base_uri": "https://localhost:8080/",
          "height": 34
        }
      },
      "source": [
        "# check if GPU is available\n",
        "train_on_gpu = torch.cuda.is_available()\n",
        "if(train_on_gpu):\n",
        "    print('Training on GPU!')\n",
        "else: \n",
        "    print('No GPU available, training on CPU; consider making n_epochs very small.')"
      ],
      "execution_count": 11,
      "outputs": [
        {
          "output_type": "stream",
          "text": [
            "Training on GPU!\n"
          ],
          "name": "stdout"
        }
      ]
    },
    {
      "cell_type": "code",
      "metadata": {
        "id": "qn_4MQN20Jug",
        "colab_type": "code",
        "colab": {}
      },
      "source": [
        "class CharRNN(nn.Module):\n",
        "    \n",
        "    def __init__(self, tokens, n_hidden=256, n_layers=2,\n",
        "                               drop_prob=0.5, lr=0.001):\n",
        "        super().__init__()\n",
        "        self.drop_prob = drop_prob\n",
        "        self.n_layers = n_layers\n",
        "        self.n_hidden = n_hidden\n",
        "        self.lr = lr\n",
        "        self.input_size = len(tokens)\n",
        "        \n",
        "        # creating character dictionaries\n",
        "        self.chars = tokens\n",
        "        self.int2char = dict(enumerate(self.chars))\n",
        "        self.char2int = {ch: ii for ii, ch in self.int2char.items()}\n",
        "        \n",
        "        ## define the layers of the model\n",
        "        self.lstm = nn.LSTM(input_size=self.input_size, hidden_size=n_hidden, num_layers=n_layers, batch_first=True, dropout=drop_prob)\n",
        "        self.fc = nn.Linear(n_hidden, self.input_size)\n",
        "        self.dropout = nn.Dropout(drop_prob)\n",
        "      \n",
        "    \n",
        "    def forward(self, x, hidden):\n",
        "        ''' Forward pass through the network. \n",
        "            These inputs are x, and the hidden/cell state `hidden`. '''\n",
        "                \n",
        "        ## Get the outputs and the new hidden state from the lstm\n",
        "        out, hidden = self.lstm(x, hidden)\n",
        "        out = out.contiguous().view(-1, self.n_hidden)\n",
        "        out = self.dropout(out)\n",
        "        out = self.fc(out)\n",
        "        # return the final output and the hidden state\n",
        "        return out, hidden\n",
        "    \n",
        "    \n",
        "    def init_hidden(self, batch_size):\n",
        "        ''' Initializes hidden state '''\n",
        "        # Create two new tensors with sizes n_layers x batch_size x n_hidden,\n",
        "        # initialized to zero, for hidden state and cell state of LSTM\n",
        "        weight = next(self.parameters()).data\n",
        "        \n",
        "        if (train_on_gpu):\n",
        "            hidden = (weight.new(self.n_layers, batch_size, self.n_hidden).zero_().cuda(),\n",
        "                  weight.new(self.n_layers, batch_size, self.n_hidden).zero_().cuda())\n",
        "        else:\n",
        "            hidden = (weight.new(self.n_layers, batch_size, self.n_hidden).zero_(),\n",
        "                      weight.new(self.n_layers, batch_size, self.n_hidden).zero_())\n",
        "        \n",
        "        return hidden\n",
        "        "
      ],
      "execution_count": 0,
      "outputs": []
    },
    {
      "cell_type": "markdown",
      "metadata": {
        "id": "UJKbfP9a0Juj",
        "colab_type": "text"
      },
      "source": [
        "## Time to train\n",
        "\n",
        "The train function gives us the ability to set the number of epochs, the learning rate, and other parameters.\n",
        "\n",
        "Below we're using an Adam optimizer and cross entropy loss since we are looking at character class scores as output. We calculate the loss and perform backpropagation, as usual!\n",
        "\n",
        "A couple of details about training: \n",
        ">* Within the batch loop, we detach the hidden state from its history; this time setting it equal to a new *tuple* variable because an LSTM has a hidden state that is a tuple of the hidden and cell states.\n",
        "* We use [`clip_grad_norm_`](https://pytorch.org/docs/stable/_modules/torch/nn/utils/clip_grad.html) to help prevent exploding gradients."
      ]
    },
    {
      "cell_type": "code",
      "metadata": {
        "id": "nwIKi_fp0Juj",
        "colab_type": "code",
        "colab": {}
      },
      "source": [
        "def train(net, data, epochs=10, batch_size=10, seq_length=50, lr=0.001, clip=5, val_frac=0.1, print_every=10):\n",
        "    ''' Training a network \n",
        "    \n",
        "        Arguments\n",
        "        ---------\n",
        "        \n",
        "        net: CharRNN network\n",
        "        data: text data to train the network\n",
        "        epochs: Number of epochs to train\n",
        "        batch_size: Number of mini-sequences per mini-batch, aka batch size\n",
        "        seq_length: Number of character steps per mini-batch\n",
        "        lr: learning rate\n",
        "        clip: gradient clipping\n",
        "        val_frac: Fraction of data to hold out for validation\n",
        "        print_every: Number of steps for printing training and validation loss\n",
        "    \n",
        "    '''\n",
        "    net.train()\n",
        "    \n",
        "    opt = torch.optim.Adam(net.parameters(), lr=lr)\n",
        "    criterion = nn.CrossEntropyLoss()\n",
        "    \n",
        "    # create training and validation data\n",
        "    val_idx = int(len(data)*(1-val_frac))\n",
        "    data, val_data = data[:val_idx], data[val_idx:]\n",
        "    \n",
        "    if(train_on_gpu):\n",
        "        net.cuda()\n",
        "    \n",
        "    counter = 0\n",
        "    n_chars = len(net.chars)\n",
        "    for e in range(epochs):\n",
        "        # initialize hidden state\n",
        "        h = net.init_hidden(batch_size)\n",
        "        \n",
        "        for x, y in get_batches(data, batch_size, seq_length):\n",
        "            counter += 1\n",
        "            \n",
        "            # One-hot encode our data and make them Torch tensors\n",
        "            x = one_hot_encode(x, n_chars)\n",
        "            inputs, targets = torch.from_numpy(x), torch.from_numpy(y)\n",
        "            \n",
        "            if(train_on_gpu):\n",
        "                inputs, targets = inputs.cuda(), targets.cuda()\n",
        "\n",
        "            # Creating new variables for the hidden state, otherwise\n",
        "            # we'd backprop through the entire training history\n",
        "            h = tuple([each.data for each in h])\n",
        "\n",
        "            # zero accumulated gradients\n",
        "            net.zero_grad()\n",
        "            \n",
        "            # get the output from the model\n",
        "            output, h = net(inputs, h)\n",
        "            \n",
        "            # calculate the loss and perform backprop\n",
        "            loss = criterion(output, targets.view(batch_size*seq_length).long())\n",
        "            loss.backward()\n",
        "            # `clip_grad_norm` helps prevent the exploding gradient problem in RNNs / LSTMs.\n",
        "            nn.utils.clip_grad_norm_(net.parameters(), clip)\n",
        "            opt.step()\n",
        "            \n",
        "            # loss stats\n",
        "            if counter % print_every == 0:\n",
        "                # Get validation loss\n",
        "                val_h = net.init_hidden(batch_size)\n",
        "                val_losses = []\n",
        "                net.eval()\n",
        "                for x, y in get_batches(val_data, batch_size, seq_length):\n",
        "                    # One-hot encode our data and make them Torch tensors\n",
        "                    x = one_hot_encode(x, n_chars)\n",
        "                    x, y = torch.from_numpy(x), torch.from_numpy(y)\n",
        "                    \n",
        "                    # Creating new variables for the hidden state, otherwise\n",
        "                    # we'd backprop through the entire training history\n",
        "                    val_h = tuple([each.data for each in val_h])\n",
        "                    \n",
        "                    inputs, targets = x, y\n",
        "                    if(train_on_gpu):\n",
        "                        inputs, targets = inputs.cuda(), targets.cuda()\n",
        "\n",
        "                    output, val_h = net(inputs, val_h)\n",
        "                    val_loss = criterion(output, targets.view(batch_size*seq_length).long())\n",
        "                \n",
        "                    val_losses.append(val_loss.item())\n",
        "                \n",
        "                net.train() # reset to train mode after iterationg through validation data\n",
        "                \n",
        "                print(\"Epoch: {}/{}...\".format(e+1, epochs),\n",
        "                      \"Step: {}...\".format(counter),\n",
        "                      \"Loss: {:.4f}...\".format(loss.item()),\n",
        "                      \"Val Loss: {:.4f}\".format(np.mean(val_losses)))"
      ],
      "execution_count": 0,
      "outputs": []
    },
    {
      "cell_type": "markdown",
      "metadata": {
        "id": "7vlVA6XR0Jum",
        "colab_type": "text"
      },
      "source": [
        "## Instantiating the model\n",
        "\n",
        "Now we can actually train the network. First we'll create the network itself, with some given hyperparameters. Then, define the mini-batches sizes, and start training!"
      ]
    },
    {
      "cell_type": "code",
      "metadata": {
        "id": "Vk241fxW0Jun",
        "colab_type": "code",
        "outputId": "4545e47a-c14a-46c8-fc72-00d20f8b167f",
        "colab": {
          "base_uri": "https://localhost:8080/",
          "height": 102
        }
      },
      "source": [
        "## set your model hyperparameters\n",
        "# define and print the net\n",
        "n_hidden=256\n",
        "n_layers=2\n",
        "\n",
        "net = CharRNN(chars, n_hidden, n_layers)\n",
        "print(net)"
      ],
      "execution_count": 18,
      "outputs": [
        {
          "output_type": "stream",
          "text": [
            "CharRNN(\n",
            "  (lstm): LSTM(84, 256, num_layers=2, batch_first=True, dropout=0.5)\n",
            "  (fc): Linear(in_features=256, out_features=84, bias=True)\n",
            "  (dropout): Dropout(p=0.5, inplace=False)\n",
            ")\n"
          ],
          "name": "stdout"
        }
      ]
    },
    {
      "cell_type": "markdown",
      "metadata": {
        "id": "Zw6yvMtZ0Jur",
        "colab_type": "text"
      },
      "source": [
        "### Set your training hyperparameters!"
      ]
    },
    {
      "cell_type": "code",
      "metadata": {
        "scrolled": true,
        "id": "2Gq4P0mc0Jur",
        "colab_type": "code",
        "outputId": "a9860001-acfe-45a6-b004-f5356b547ad5",
        "colab": {
          "base_uri": "https://localhost:8080/",
          "height": 1000
        }
      },
      "source": [
        "batch_size = 10\n",
        "seq_length = 50\n",
        "n_epochs = 1 # start small if you are just testing initial behavior\n",
        "\n",
        "# train the model\n",
        "train(net, encoded, epochs=n_epochs, batch_size=batch_size, seq_length=seq_length, lr=0.001, print_every=10)"
      ],
      "execution_count": 0,
      "outputs": [
        {
          "output_type": "stream",
          "text": [
            "Epoch: 1/1... Step: 10... Loss: 3.4974... Val Loss: 3.2843\n",
            "Epoch: 1/1... Step: 20... Loss: 3.2929... Val Loss: 3.1807\n",
            "Epoch: 1/1... Step: 30... Loss: 3.2089... Val Loss: 3.1763\n",
            "Epoch: 1/1... Step: 40... Loss: 3.3145... Val Loss: 3.1744\n",
            "Epoch: 1/1... Step: 50... Loss: 3.1526... Val Loss: 3.1664\n",
            "Epoch: 1/1... Step: 60... Loss: 3.1272... Val Loss: 3.1700\n",
            "Epoch: 1/1... Step: 70... Loss: 3.2395... Val Loss: 3.1659\n",
            "Epoch: 1/1... Step: 80... Loss: 3.2001... Val Loss: 3.1665\n",
            "Epoch: 1/1... Step: 90... Loss: 3.1296... Val Loss: 3.1668\n",
            "Epoch: 1/1... Step: 100... Loss: 3.1672... Val Loss: 3.1666\n",
            "Epoch: 1/1... Step: 110... Loss: 3.1908... Val Loss: 3.1640\n",
            "Epoch: 1/1... Step: 120... Loss: 3.1117... Val Loss: 3.1584\n",
            "Epoch: 1/1... Step: 130... Loss: 3.1315... Val Loss: 3.1538\n",
            "Epoch: 1/1... Step: 140... Loss: 3.0573... Val Loss: 3.1421\n",
            "Epoch: 1/1... Step: 150... Loss: 3.1952... Val Loss: 3.1285\n",
            "Epoch: 1/1... Step: 160... Loss: 3.2256... Val Loss: 3.1052\n",
            "Epoch: 1/1... Step: 170... Loss: 3.0474... Val Loss: 3.0669\n",
            "Epoch: 1/1... Step: 180... Loss: 3.1044... Val Loss: 3.0164\n",
            "Epoch: 1/1... Step: 190... Loss: 2.9638... Val Loss: 2.9557\n",
            "Epoch: 1/1... Step: 200... Loss: 2.8552... Val Loss: 2.9093\n",
            "Epoch: 1/1... Step: 210... Loss: 2.7907... Val Loss: 2.8485\n",
            "Epoch: 1/1... Step: 220... Loss: 2.8203... Val Loss: 2.7995\n",
            "Epoch: 1/1... Step: 230... Loss: 2.6758... Val Loss: 2.7386\n",
            "Epoch: 1/1... Step: 240... Loss: 2.8344... Val Loss: 2.7010\n",
            "Epoch: 1/1... Step: 250... Loss: 2.6605... Val Loss: 2.6530\n",
            "Epoch: 1/1... Step: 260... Loss: 2.6129... Val Loss: 2.6169\n",
            "Epoch: 1/1... Step: 270... Loss: 2.4773... Val Loss: 2.5863\n",
            "Epoch: 1/1... Step: 280... Loss: 2.4408... Val Loss: 2.5621\n",
            "Epoch: 1/1... Step: 290... Loss: 2.5004... Val Loss: 2.5518\n",
            "Epoch: 1/1... Step: 300... Loss: 2.6071... Val Loss: 2.5270\n",
            "Epoch: 1/1... Step: 310... Loss: 2.5587... Val Loss: 2.5067\n",
            "Epoch: 1/1... Step: 320... Loss: 2.4719... Val Loss: 2.5253\n",
            "Epoch: 1/1... Step: 330... Loss: 2.4717... Val Loss: 2.4806\n",
            "Epoch: 1/1... Step: 340... Loss: 2.6012... Val Loss: 2.4743\n",
            "Epoch: 1/1... Step: 350... Loss: 2.5616... Val Loss: 2.4500\n",
            "Epoch: 1/1... Step: 360... Loss: 2.4812... Val Loss: 2.4501\n",
            "Epoch: 1/1... Step: 370... Loss: 2.4021... Val Loss: 2.4313\n",
            "Epoch: 1/1... Step: 380... Loss: 2.5021... Val Loss: 2.4163\n",
            "Epoch: 1/1... Step: 390... Loss: 2.3562... Val Loss: 2.4009\n",
            "Epoch: 1/1... Step: 400... Loss: 2.4850... Val Loss: 2.4022\n",
            "Epoch: 1/1... Step: 410... Loss: 2.3080... Val Loss: 2.3829\n",
            "Epoch: 1/1... Step: 420... Loss: 2.3331... Val Loss: 2.3769\n",
            "Epoch: 1/1... Step: 430... Loss: 2.3357... Val Loss: 2.3719\n",
            "Epoch: 1/1... Step: 440... Loss: 2.3861... Val Loss: 2.3667\n",
            "Epoch: 1/1... Step: 450... Loss: 2.2864... Val Loss: 2.3501\n",
            "Epoch: 1/1... Step: 460... Loss: 2.3656... Val Loss: 2.3479\n",
            "Epoch: 1/1... Step: 470... Loss: 2.4087... Val Loss: 2.3349\n",
            "Epoch: 1/1... Step: 480... Loss: 2.3359... Val Loss: 2.3272\n",
            "Epoch: 1/1... Step: 490... Loss: 2.1572... Val Loss: 2.3180\n",
            "Epoch: 1/1... Step: 500... Loss: 2.2840... Val Loss: 2.3201\n",
            "Epoch: 1/1... Step: 510... Loss: 2.3902... Val Loss: 2.3099\n",
            "Epoch: 1/1... Step: 520... Loss: 2.3070... Val Loss: 2.3066\n",
            "Epoch: 1/1... Step: 530... Loss: 2.3507... Val Loss: 2.3044\n",
            "Epoch: 1/1... Step: 540... Loss: 2.3140... Val Loss: 2.2924\n",
            "Epoch: 1/1... Step: 550... Loss: 2.2310... Val Loss: 2.2832\n",
            "Epoch: 1/1... Step: 560... Loss: 2.1278... Val Loss: 2.2823\n",
            "Epoch: 1/1... Step: 570... Loss: 2.4172... Val Loss: 2.2682\n",
            "Epoch: 1/1... Step: 580... Loss: 2.4596... Val Loss: 2.2644\n",
            "Epoch: 1/1... Step: 590... Loss: 2.3300... Val Loss: 2.2698\n",
            "Epoch: 1/1... Step: 600... Loss: 2.3529... Val Loss: 2.2575\n",
            "Epoch: 1/1... Step: 610... Loss: 2.3100... Val Loss: 2.2528\n",
            "Epoch: 1/1... Step: 620... Loss: 2.2112... Val Loss: 2.2479\n",
            "Epoch: 1/1... Step: 630... Loss: 2.2884... Val Loss: 2.2432\n",
            "Epoch: 1/1... Step: 640... Loss: 2.1936... Val Loss: 2.2378\n",
            "Epoch: 1/1... Step: 650... Loss: 2.2360... Val Loss: 2.2355\n",
            "Epoch: 1/1... Step: 660... Loss: 2.2502... Val Loss: 2.2188\n",
            "Epoch: 1/1... Step: 670... Loss: 2.2640... Val Loss: 2.2169\n",
            "Epoch: 1/1... Step: 680... Loss: 2.3421... Val Loss: 2.2128\n",
            "Epoch: 1/1... Step: 690... Loss: 2.1187... Val Loss: 2.2144\n",
            "Epoch: 1/1... Step: 700... Loss: 2.3546... Val Loss: 2.2036\n",
            "Epoch: 1/1... Step: 710... Loss: 2.2032... Val Loss: 2.1960\n",
            "Epoch: 1/1... Step: 720... Loss: 2.4568... Val Loss: 2.1961\n",
            "Epoch: 1/1... Step: 730... Loss: 2.1611... Val Loss: 2.1908\n",
            "Epoch: 1/1... Step: 740... Loss: 2.2469... Val Loss: 2.1841\n",
            "Epoch: 1/1... Step: 750... Loss: 2.1098... Val Loss: 2.1816\n",
            "Epoch: 1/1... Step: 760... Loss: 2.3209... Val Loss: 2.1733\n",
            "Epoch: 1/1... Step: 770... Loss: 2.2552... Val Loss: 2.1727\n",
            "Epoch: 1/1... Step: 780... Loss: 2.1767... Val Loss: 2.1656\n",
            "Epoch: 1/1... Step: 790... Loss: 2.2407... Val Loss: 2.1634\n",
            "Epoch: 1/1... Step: 800... Loss: 2.1860... Val Loss: 2.1549\n",
            "Epoch: 1/1... Step: 810... Loss: 2.0787... Val Loss: 2.1510\n",
            "Epoch: 1/1... Step: 820... Loss: 2.2287... Val Loss: 2.1461\n",
            "Epoch: 1/1... Step: 830... Loss: 2.2316... Val Loss: 2.1417\n",
            "Epoch: 1/1... Step: 840... Loss: 2.1212... Val Loss: 2.1367\n",
            "Epoch: 1/1... Step: 850... Loss: 2.1119... Val Loss: 2.1376\n",
            "Epoch: 1/1... Step: 860... Loss: 2.1351... Val Loss: 2.1350\n",
            "Epoch: 1/1... Step: 870... Loss: 2.1433... Val Loss: 2.1225\n",
            "Epoch: 1/1... Step: 880... Loss: 2.1949... Val Loss: 2.1243\n",
            "Epoch: 1/1... Step: 890... Loss: 2.1958... Val Loss: 2.1235\n",
            "Epoch: 1/1... Step: 900... Loss: 2.0397... Val Loss: 2.1136\n",
            "Epoch: 1/1... Step: 910... Loss: 2.2443... Val Loss: 2.1027\n",
            "Epoch: 1/1... Step: 920... Loss: 2.2130... Val Loss: 2.1029\n",
            "Epoch: 1/1... Step: 930... Loss: 2.1120... Val Loss: 2.1049\n",
            "Epoch: 1/1... Step: 940... Loss: 2.1694... Val Loss: 2.0986\n",
            "Epoch: 1/1... Step: 950... Loss: 2.2771... Val Loss: 2.1037\n",
            "Epoch: 1/1... Step: 960... Loss: 2.0835... Val Loss: 2.1002\n",
            "Epoch: 1/1... Step: 970... Loss: 2.1145... Val Loss: 2.0869\n",
            "Epoch: 1/1... Step: 980... Loss: 2.1179... Val Loss: 2.0905\n",
            "Epoch: 1/1... Step: 990... Loss: 2.0969... Val Loss: 2.0831\n",
            "Epoch: 1/1... Step: 1000... Loss: 2.1038... Val Loss: 2.0731\n",
            "Epoch: 1/1... Step: 1010... Loss: 2.1597... Val Loss: 2.0701\n",
            "Epoch: 1/1... Step: 1020... Loss: 2.0671... Val Loss: 2.0689\n",
            "Epoch: 1/1... Step: 1030... Loss: 2.0551... Val Loss: 2.0639\n",
            "Epoch: 1/1... Step: 1040... Loss: 2.0797... Val Loss: 2.0547\n",
            "Epoch: 1/1... Step: 1050... Loss: 1.9770... Val Loss: 2.0536\n",
            "Epoch: 1/1... Step: 1060... Loss: 2.1862... Val Loss: 2.0513\n",
            "Epoch: 1/1... Step: 1070... Loss: 2.0648... Val Loss: 2.0545\n",
            "Epoch: 1/1... Step: 1080... Loss: 2.1088... Val Loss: 2.0489\n",
            "Epoch: 1/1... Step: 1090... Loss: 1.9903... Val Loss: 2.0387\n",
            "Epoch: 1/1... Step: 1100... Loss: 2.1121... Val Loss: 2.0372\n",
            "Epoch: 1/1... Step: 1110... Loss: 1.9800... Val Loss: 2.0374\n",
            "Epoch: 1/1... Step: 1120... Loss: 2.0599... Val Loss: 2.0268\n",
            "Epoch: 1/1... Step: 1130... Loss: 2.1770... Val Loss: 2.0289\n",
            "Epoch: 1/1... Step: 1140... Loss: 1.9806... Val Loss: 2.0353\n",
            "Epoch: 1/1... Step: 1150... Loss: 2.0716... Val Loss: 2.0264\n",
            "Epoch: 1/1... Step: 1160... Loss: 2.0555... Val Loss: 2.0143\n",
            "Epoch: 1/1... Step: 1170... Loss: 2.0691... Val Loss: 2.0145\n",
            "Epoch: 1/1... Step: 1180... Loss: 2.0668... Val Loss: 2.0069\n",
            "Epoch: 1/1... Step: 1190... Loss: 2.1435... Val Loss: 2.0046\n",
            "Epoch: 1/1... Step: 1200... Loss: 2.1219... Val Loss: 2.0042\n",
            "Epoch: 1/1... Step: 1210... Loss: 2.1403... Val Loss: 2.0068\n",
            "Epoch: 1/1... Step: 1220... Loss: 1.8990... Val Loss: 2.0035\n",
            "Epoch: 1/1... Step: 1230... Loss: 1.8915... Val Loss: 1.9997\n",
            "Epoch: 1/1... Step: 1240... Loss: 2.0311... Val Loss: 1.9961\n",
            "Epoch: 1/1... Step: 1250... Loss: 2.0108... Val Loss: 1.9892\n",
            "Epoch: 1/1... Step: 1260... Loss: 2.0023... Val Loss: 1.9889\n",
            "Epoch: 1/1... Step: 1270... Loss: 2.0483... Val Loss: 1.9851\n",
            "Epoch: 1/1... Step: 1280... Loss: 2.0468... Val Loss: 1.9802\n",
            "Epoch: 1/1... Step: 1290... Loss: 1.9766... Val Loss: 1.9811\n",
            "Epoch: 1/1... Step: 1300... Loss: 1.8745... Val Loss: 1.9735\n",
            "Epoch: 1/1... Step: 1310... Loss: 1.9883... Val Loss: 1.9749\n",
            "Epoch: 1/1... Step: 1320... Loss: 1.9004... Val Loss: 1.9731\n"
          ],
          "name": "stdout"
        }
      ]
    },
    {
      "cell_type": "markdown",
      "metadata": {
        "id": "sYM3BAdb0Jux",
        "colab_type": "text"
      },
      "source": [
        "## Getting the best model\n",
        "\n",
        "To set your hyperparameters to get the best performance, you'll want to watch the training and validation losses. If your training loss is much lower than the validation loss, you're overfitting. Increase regularization (more dropout) or use a smaller network. If the training and validation losses are close, you're underfitting so you can increase the size of the network."
      ]
    },
    {
      "cell_type": "markdown",
      "metadata": {
        "id": "wClmL5QC0Juy",
        "colab_type": "text"
      },
      "source": [
        "## Hyperparameters\n",
        "\n",
        "Here are the hyperparameters for the network.\n",
        "\n",
        "In defining the model:\n",
        "* `n_hidden` - The number of units in the hidden layers.\n",
        "* `n_layers` - Number of hidden LSTM layers to use.\n",
        "\n",
        "We assume that dropout probability and learning rate will be kept at the default, in this example.\n",
        "\n",
        "And in training:\n",
        "* `batch_size` - Number of sequences running through the network in one pass.\n",
        "* `seq_length` - Number of characters in the sequence the network is trained on. Larger is better typically, the network will learn more long range dependencies. But it takes longer to train. 100 is typically a good number here.\n",
        "* `lr` - Learning rate for training\n",
        "\n",
        "Here's some good advice from Andrej Karpathy on training the network. I'm going to copy it in here for your benefit, but also link to [where it originally came from](https://github.com/karpathy/char-rnn#tips-and-tricks).\n",
        "\n",
        "> ## Tips and Tricks\n",
        "\n",
        ">### Monitoring Validation Loss vs. Training Loss\n",
        ">If you're somewhat new to Machine Learning or Neural Networks it can take a bit of expertise to get good models. The most important quantity to keep track of is the difference between your training loss (printed during training) and the validation loss (printed once in a while when the RNN is run on the validation data (by default every 1000 iterations)). In particular:\n",
        "\n",
        "> - If your training loss is much lower than validation loss then this means the network might be **overfitting**. Solutions to this are to decrease your network size, or to increase dropout. For example you could try dropout of 0.5 and so on.\n",
        "> - If your training/validation loss are about equal then your model is **underfitting**. Increase the size of your model (either number of layers or the raw number of neurons per layer)\n",
        "\n",
        "> ### Approximate number of parameters\n",
        "\n",
        "> The two most important parameters that control the model are `n_hidden` and `n_layers`. I would advise that you always use `n_layers` of either 2/3. The `n_hidden` can be adjusted based on how much data you have. The two important quantities to keep track of here are:\n",
        "\n",
        "> - The number of parameters in your model. This is printed when you start training.\n",
        "> - The size of your dataset. 1MB file is approximately 1 million characters.\n",
        "\n",
        ">These two should be about the same order of magnitude. It's a little tricky to tell. Here are some examples:\n",
        "\n",
        "> - I have a 100MB dataset and I'm using the default parameter settings (which currently print 150K parameters). My data size is significantly larger (100 mil >> 0.15 mil), so I expect to heavily underfit. I am thinking I can comfortably afford to make `n_hidden` larger.\n",
        "> - I have a 10MB dataset and running a 10 million parameter model. I'm slightly nervous and I'm carefully monitoring my validation loss. If it's larger than my training loss then I may want to try to increase dropout a bit and see if that helps the validation loss.\n",
        "\n",
        "> ### Best models strategy\n",
        "\n",
        ">The winning strategy to obtaining very good models (if you have the compute time) is to always err on making the network larger (as large as you're willing to wait for it to compute) and then try different dropout values (between 0,1). Whatever model has the best validation performance (the loss, written in the checkpoint filename, low is good) is the one you should use in the end.\n",
        "\n",
        ">It is very common in deep learning to run many different models with many different hyperparameter settings, and in the end take whatever checkpoint gave the best validation performance.\n",
        "\n",
        ">By the way, the size of your training and validation splits are also parameters. Make sure you have a decent amount of data in your validation set or otherwise the validation performance will be noisy and not very informative."
      ]
    },
    {
      "cell_type": "markdown",
      "metadata": {
        "id": "MI89nbdH0Ju0",
        "colab_type": "text"
      },
      "source": [
        "## Checkpoint\n",
        "\n",
        "After training, we'll save the model so we can load it again later if we need too. Here I'm saving the parameters needed to create the same architecture, the hidden layer hyperparameters and the text characters."
      ]
    },
    {
      "cell_type": "code",
      "metadata": {
        "id": "oGj3_Zkt0Ju1",
        "colab_type": "code",
        "colab": {}
      },
      "source": [
        "# change the name, for saving multiple files\n",
        "model_name = 'rnn_x_epoch.net'\n",
        "\n",
        "checkpoint = {'n_hidden': net.n_hidden,\n",
        "              'n_layers': net.n_layers,\n",
        "              'state_dict': net.state_dict(),\n",
        "              'tokens': net.chars}\n",
        "\n",
        "with open(model_name, 'wb') as f:\n",
        "    torch.save(checkpoint, f)"
      ],
      "execution_count": 0,
      "outputs": []
    },
    {
      "cell_type": "markdown",
      "metadata": {
        "id": "55TWMKzJ0Ju4",
        "colab_type": "text"
      },
      "source": [
        "---\n",
        "## Making Predictions\n",
        "\n",
        "Now that the model is trained, we'll want to sample from it and make predictions about next characters! To sample, we pass in a character and have the network predict the next character. Then we take that character, pass it back in, and get another predicted character. Just keep doing this and you'll generate a bunch of text!\n",
        "\n",
        "### A note on the `predict`  function\n",
        "\n",
        "The output of our RNN is from a fully-connected layer and it outputs a **distribution of next-character scores**.\n",
        "\n",
        "> To actually get the next character, we apply a softmax function, which gives us a *probability* distribution that we can then sample to predict the next character.\n",
        "\n",
        "### Top K sampling\n",
        "\n",
        "Our predictions come from a categorical probability distribution over all the possible characters. We can make the sample text and make it more reasonable to handle (with less variables) by only considering some $K$ most probable characters. This will prevent the network from giving us completely absurd characters while allowing it to introduce some noise and randomness into the sampled text. Read more about [topk, here](https://pytorch.org/docs/stable/torch.html#torch.topk).\n"
      ]
    },
    {
      "cell_type": "code",
      "metadata": {
        "id": "Tp3aUwFh0Ju5",
        "colab_type": "code",
        "colab": {}
      },
      "source": [
        "def predict(net, char, h=None, top_k=None):\n",
        "        ''' Given a character, predict the next character.\n",
        "            Returns the predicted character and the hidden state.\n",
        "        '''\n",
        "        \n",
        "        # tensor inputs\n",
        "        x = np.array([[net.char2int[char]]])\n",
        "        x = one_hot_encode(x, len(net.chars))\n",
        "        inputs = torch.from_numpy(x)\n",
        "        \n",
        "        if(train_on_gpu):\n",
        "            inputs = inputs.cuda()\n",
        "        \n",
        "        # detach hidden state from history\n",
        "        h = tuple([each.data for each in h])\n",
        "        # get the output of the model\n",
        "        out, h = net(inputs, h)\n",
        "\n",
        "        # get the character probabilities\n",
        "        p = F.softmax(out, dim=1).data\n",
        "        if(train_on_gpu):\n",
        "            p = p.cpu() # move to cpu\n",
        "        \n",
        "        # get top characters\n",
        "        if top_k is None:\n",
        "            top_ch = np.arange(len(net.chars))\n",
        "        else:\n",
        "            p, top_ch = p.topk(top_k)\n",
        "            top_ch = top_ch.numpy().squeeze()\n",
        "        \n",
        "        # select the likely next character with some element of randomness\n",
        "        p = p.numpy().squeeze()\n",
        "        char = np.random.choice(top_ch, p=p/p.sum())\n",
        "        \n",
        "        # return the encoded value of the predicted char and the hidden state\n",
        "        return net.int2char[char], h"
      ],
      "execution_count": 0,
      "outputs": []
    },
    {
      "cell_type": "markdown",
      "metadata": {
        "id": "XH1DMHF30Ju7",
        "colab_type": "text"
      },
      "source": [
        "### Priming and generating text \n",
        "\n",
        "Typically you'll want to prime the network so you can build up a hidden state. Otherwise the network will start out generating characters at random. In general the first bunch of characters will be a little rough since it hasn't built up a long history of characters to predict from."
      ]
    },
    {
      "cell_type": "code",
      "metadata": {
        "id": "2LIcicqV0Ju8",
        "colab_type": "code",
        "colab": {}
      },
      "source": [
        "def sample(net, size, prime='The', top_k=None):\n",
        "        \n",
        "    if(train_on_gpu):\n",
        "        net.cuda()\n",
        "    else:\n",
        "        net.cpu()\n",
        "    \n",
        "    net.eval() # eval mode\n",
        "    \n",
        "    # First off, run through the prime characters\n",
        "    chars = [ch for ch in prime]\n",
        "    h = net.init_hidden(1)\n",
        "    for ch in prime:\n",
        "        char, h = predict(net, ch, h, top_k=top_k)\n",
        "\n",
        "    chars.append(char)\n",
        "    \n",
        "    # Now pass in the previous character and get a new one\n",
        "    for ii in range(size):\n",
        "        char, h = predict(net, chars[-1], h, top_k=top_k)\n",
        "        chars.append(char)\n",
        "\n",
        "    return ''.join(chars)"
      ],
      "execution_count": 0,
      "outputs": []
    },
    {
      "cell_type": "code",
      "metadata": {
        "id": "csC1qrO-0Ju_",
        "colab_type": "code",
        "colab": {}
      },
      "source": [
        "print(sample(net, 1000, prime='Anna', top_k=5))"
      ],
      "execution_count": 0,
      "outputs": []
    },
    {
      "cell_type": "markdown",
      "metadata": {
        "id": "1qc75XyQ0JvC",
        "colab_type": "text"
      },
      "source": [
        "## Loading a checkpoint"
      ]
    },
    {
      "cell_type": "code",
      "metadata": {
        "id": "nUJ8Cqy50JvD",
        "colab_type": "code",
        "colab": {}
      },
      "source": [
        "# Here we have loaded in a model that trained over 20 epochs `rnn_20_epoch.net`\n",
        "with open('rnn_x_epoch.net', 'rb') as f:\n",
        "    checkpoint = torch.load(f)\n",
        "    \n",
        "loaded = CharRNN(checkpoint['tokens'], n_hidden=checkpoint['n_hidden'], n_layers=checkpoint['n_layers'])\n",
        "loaded.load_state_dict(checkpoint['state_dict'])"
      ],
      "execution_count": 0,
      "outputs": []
    },
    {
      "cell_type": "code",
      "metadata": {
        "id": "AzNhwGuY0JvH",
        "colab_type": "code",
        "colab": {}
      },
      "source": [
        "# Sample using a loaded model\n",
        "print(sample(loaded, 2000, top_k=5, prime=\"And Levin said\"))"
      ],
      "execution_count": 0,
      "outputs": []
    },
    {
      "cell_type": "code",
      "metadata": {
        "id": "EDcycLHQ0JvJ",
        "colab_type": "code",
        "colab": {}
      },
      "source": [
        ""
      ],
      "execution_count": 0,
      "outputs": []
    }
  ]
}